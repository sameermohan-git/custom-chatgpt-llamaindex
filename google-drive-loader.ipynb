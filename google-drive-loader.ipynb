{
 "cells": [
  {
   "cell_type": "code",
   "execution_count": 3,
   "id": "397b492d-ad77-432a-b4eb-56fd1605e469",
   "metadata": {},
   "outputs": [
    {
     "name": "stdout",
     "output_type": "stream",
     "text": [
      "Requirement already satisfied: openai in /Users/sameer-macair/opt/anaconda3/lib/python3.9/site-packages (0.27.2)\n",
      "Requirement already satisfied: aiohttp in /Users/sameer-macair/opt/anaconda3/lib/python3.9/site-packages (from openai) (3.8.4)\n",
      "Requirement already satisfied: requests>=2.20 in /Users/sameer-macair/opt/anaconda3/lib/python3.9/site-packages (from openai) (2.27.1)\n",
      "Requirement already satisfied: tqdm in /Users/sameer-macair/opt/anaconda3/lib/python3.9/site-packages (from openai) (4.64.0)\n",
      "Requirement already satisfied: certifi>=2017.4.17 in /Users/sameer-macair/opt/anaconda3/lib/python3.9/site-packages (from requests>=2.20->openai) (2022.12.7)\n",
      "Requirement already satisfied: idna<4,>=2.5 in /Users/sameer-macair/opt/anaconda3/lib/python3.9/site-packages (from requests>=2.20->openai) (3.3)\n",
      "Requirement already satisfied: charset-normalizer~=2.0.0 in /Users/sameer-macair/opt/anaconda3/lib/python3.9/site-packages (from requests>=2.20->openai) (2.0.4)\n",
      "Requirement already satisfied: urllib3<1.27,>=1.21.1 in /Users/sameer-macair/opt/anaconda3/lib/python3.9/site-packages (from requests>=2.20->openai) (1.26.14)\n",
      "Requirement already satisfied: async-timeout<5.0,>=4.0.0a3 in /Users/sameer-macair/opt/anaconda3/lib/python3.9/site-packages (from aiohttp->openai) (4.0.2)\n",
      "Requirement already satisfied: multidict<7.0,>=4.5 in /Users/sameer-macair/opt/anaconda3/lib/python3.9/site-packages (from aiohttp->openai) (5.2.0)\n",
      "Requirement already satisfied: attrs>=17.3.0 in /Users/sameer-macair/opt/anaconda3/lib/python3.9/site-packages (from aiohttp->openai) (21.4.0)\n",
      "Requirement already satisfied: frozenlist>=1.1.1 in /Users/sameer-macair/opt/anaconda3/lib/python3.9/site-packages (from aiohttp->openai) (1.2.0)\n",
      "Requirement already satisfied: aiosignal>=1.1.2 in /Users/sameer-macair/opt/anaconda3/lib/python3.9/site-packages (from aiohttp->openai) (1.2.0)\n",
      "Requirement already satisfied: yarl<2.0,>=1.0 in /Users/sameer-macair/opt/anaconda3/lib/python3.9/site-packages (from aiohttp->openai) (1.6.3)\n",
      "\u001b[33mWARNING: You are using pip version 22.1.1; however, version 23.0.1 is available.\n",
      "You should consider upgrading via the '/Users/sameer-macair/opt/anaconda3/bin/python -m pip install --upgrade pip' command.\u001b[0m\u001b[33m\n",
      "\u001b[0mNote: you may need to restart the kernel to use updated packages.\n"
     ]
    }
   ],
   "source": [
    "pip install openai"
   ]
  },
  {
   "cell_type": "code",
   "execution_count": 4,
   "id": "e079b9f2-644f-48b2-a201-b0cde0b5e10b",
   "metadata": {},
   "outputs": [
    {
     "name": "stdout",
     "output_type": "stream",
     "text": [
      "Collecting llama-index\n",
      "  Downloading llama_index-0.5.9.tar.gz (166 kB)\n",
      "\u001b[2K     \u001b[90m━━━━━━━━━━━━━━━━━━━━━━━━━━━━━━━━━━━━━━━\u001b[0m \u001b[32m166.2/166.2 KB\u001b[0m \u001b[31m4.2 MB/s\u001b[0m eta \u001b[36m0:00:00\u001b[0m\n",
      "\u001b[?25h  Preparing metadata (setup.py) ... \u001b[?25ldone\n",
      "\u001b[?25hRequirement already satisfied: dataclasses_json in /Users/sameer-macair/opt/anaconda3/lib/python3.9/site-packages (from llama-index) (0.5.7)\n",
      "Requirement already satisfied: langchain in /Users/sameer-macair/opt/anaconda3/lib/python3.9/site-packages (from llama-index) (0.0.125)\n",
      "Requirement already satisfied: numpy in /Users/sameer-macair/opt/anaconda3/lib/python3.9/site-packages (from llama-index) (1.22.4)\n",
      "Requirement already satisfied: tenacity<9.0.0,>=8.2.0 in /Users/sameer-macair/opt/anaconda3/lib/python3.9/site-packages (from llama-index) (8.2.2)\n",
      "Requirement already satisfied: openai>=0.26.4 in /Users/sameer-macair/opt/anaconda3/lib/python3.9/site-packages (from llama-index) (0.27.2)\n",
      "Requirement already satisfied: pandas in /Users/sameer-macair/opt/anaconda3/lib/python3.9/site-packages (from llama-index) (1.4.2)\n",
      "Collecting tiktoken\n",
      "  Downloading tiktoken-0.3.3-cp39-cp39-macosx_10_9_x86_64.whl (736 kB)\n",
      "\u001b[2K     \u001b[90m━━━━━━━━━━━━━━━━━━━━━━━━━━━━━━━━━━━━━━\u001b[0m \u001b[32m736.3/736.3 KB\u001b[0m \u001b[31m11.7 MB/s\u001b[0m eta \u001b[36m0:00:00\u001b[0ma \u001b[36m0:00:01\u001b[0m\n",
      "\u001b[?25hRequirement already satisfied: aiohttp in /Users/sameer-macair/opt/anaconda3/lib/python3.9/site-packages (from openai>=0.26.4->llama-index) (3.8.4)\n",
      "Requirement already satisfied: requests>=2.20 in /Users/sameer-macair/opt/anaconda3/lib/python3.9/site-packages (from openai>=0.26.4->llama-index) (2.27.1)\n",
      "Requirement already satisfied: tqdm in /Users/sameer-macair/opt/anaconda3/lib/python3.9/site-packages (from openai>=0.26.4->llama-index) (4.64.0)\n",
      "Requirement already satisfied: marshmallow-enum<2.0.0,>=1.5.1 in /Users/sameer-macair/opt/anaconda3/lib/python3.9/site-packages (from dataclasses_json->llama-index) (1.5.1)\n",
      "Requirement already satisfied: marshmallow<4.0.0,>=3.3.0 in /Users/sameer-macair/opt/anaconda3/lib/python3.9/site-packages (from dataclasses_json->llama-index) (3.19.0)\n",
      "Requirement already satisfied: typing-inspect>=0.4.0 in /Users/sameer-macair/opt/anaconda3/lib/python3.9/site-packages (from dataclasses_json->llama-index) (0.8.0)\n",
      "Requirement already satisfied: pydantic<2,>=1 in /Users/sameer-macair/opt/anaconda3/lib/python3.9/site-packages (from langchain->llama-index) (1.10.2)\n",
      "Requirement already satisfied: SQLAlchemy<2,>=1 in /Users/sameer-macair/opt/anaconda3/lib/python3.9/site-packages (from langchain->llama-index) (1.4.32)\n",
      "Requirement already satisfied: PyYAML>=5.4.1 in /Users/sameer-macair/opt/anaconda3/lib/python3.9/site-packages (from langchain->llama-index) (6.0)\n",
      "Requirement already satisfied: pyowm<4.0.0,>=3.3.0 in /Users/sameer-macair/opt/anaconda3/lib/python3.9/site-packages (from langchain->llama-index) (3.3.0)\n",
      "Requirement already satisfied: python-dateutil>=2.8.1 in /Users/sameer-macair/opt/anaconda3/lib/python3.9/site-packages (from pandas->llama-index) (2.8.2)\n",
      "Requirement already satisfied: pytz>=2020.1 in /Users/sameer-macair/opt/anaconda3/lib/python3.9/site-packages (from pandas->llama-index) (2021.3)\n",
      "Requirement already satisfied: regex>=2022.1.18 in /Users/sameer-macair/opt/anaconda3/lib/python3.9/site-packages (from tiktoken->llama-index) (2022.3.15)\n",
      "Requirement already satisfied: multidict<7.0,>=4.5 in /Users/sameer-macair/opt/anaconda3/lib/python3.9/site-packages (from aiohttp->openai>=0.26.4->llama-index) (5.2.0)\n",
      "Requirement already satisfied: charset-normalizer<4.0,>=2.0 in /Users/sameer-macair/opt/anaconda3/lib/python3.9/site-packages (from aiohttp->openai>=0.26.4->llama-index) (2.0.4)\n",
      "Requirement already satisfied: aiosignal>=1.1.2 in /Users/sameer-macair/opt/anaconda3/lib/python3.9/site-packages (from aiohttp->openai>=0.26.4->llama-index) (1.2.0)\n",
      "Requirement already satisfied: yarl<2.0,>=1.0 in /Users/sameer-macair/opt/anaconda3/lib/python3.9/site-packages (from aiohttp->openai>=0.26.4->llama-index) (1.6.3)\n",
      "Requirement already satisfied: async-timeout<5.0,>=4.0.0a3 in /Users/sameer-macair/opt/anaconda3/lib/python3.9/site-packages (from aiohttp->openai>=0.26.4->llama-index) (4.0.2)\n",
      "Requirement already satisfied: frozenlist>=1.1.1 in /Users/sameer-macair/opt/anaconda3/lib/python3.9/site-packages (from aiohttp->openai>=0.26.4->llama-index) (1.2.0)\n",
      "Requirement already satisfied: attrs>=17.3.0 in /Users/sameer-macair/opt/anaconda3/lib/python3.9/site-packages (from aiohttp->openai>=0.26.4->llama-index) (21.4.0)\n",
      "Requirement already satisfied: packaging>=17.0 in /Users/sameer-macair/opt/anaconda3/lib/python3.9/site-packages (from marshmallow<4.0.0,>=3.3.0->dataclasses_json->llama-index) (23.0)\n",
      "Requirement already satisfied: typing-extensions>=4.1.0 in /Users/sameer-macair/opt/anaconda3/lib/python3.9/site-packages (from pydantic<2,>=1->langchain->llama-index) (4.4.0)\n",
      "Requirement already satisfied: geojson<3,>=2.3.0 in /Users/sameer-macair/opt/anaconda3/lib/python3.9/site-packages (from pyowm<4.0.0,>=3.3.0->langchain->llama-index) (2.5.0)\n",
      "Requirement already satisfied: PySocks<2,>=1.7.1 in /Users/sameer-macair/opt/anaconda3/lib/python3.9/site-packages (from pyowm<4.0.0,>=3.3.0->langchain->llama-index) (1.7.1)\n",
      "Requirement already satisfied: six>=1.5 in /Users/sameer-macair/opt/anaconda3/lib/python3.9/site-packages (from python-dateutil>=2.8.1->pandas->llama-index) (1.16.0)\n",
      "Requirement already satisfied: urllib3<1.27,>=1.21.1 in /Users/sameer-macair/opt/anaconda3/lib/python3.9/site-packages (from requests>=2.20->openai>=0.26.4->llama-index) (1.26.14)\n",
      "Requirement already satisfied: certifi>=2017.4.17 in /Users/sameer-macair/opt/anaconda3/lib/python3.9/site-packages (from requests>=2.20->openai>=0.26.4->llama-index) (2022.12.7)\n",
      "Requirement already satisfied: idna<4,>=2.5 in /Users/sameer-macair/opt/anaconda3/lib/python3.9/site-packages (from requests>=2.20->openai>=0.26.4->llama-index) (3.3)\n",
      "Requirement already satisfied: greenlet!=0.4.17 in /Users/sameer-macair/opt/anaconda3/lib/python3.9/site-packages (from SQLAlchemy<2,>=1->langchain->llama-index) (1.1.1)\n",
      "Requirement already satisfied: mypy-extensions>=0.3.0 in /Users/sameer-macair/opt/anaconda3/lib/python3.9/site-packages (from typing-inspect>=0.4.0->dataclasses_json->llama-index) (0.4.3)\n",
      "Building wheels for collected packages: llama-index\n",
      "  Building wheel for llama-index (setup.py) ... \u001b[?25ldone\n",
      "\u001b[?25h  Created wheel for llama-index: filename=llama_index-0.5.9-py3-none-any.whl size=248724 sha256=c45a1ca0b58adadb5f67476fbc4ad37bbd097a5af1070034ffaeb020438e0ea2\n",
      "  Stored in directory: /Users/sameer-macair/Library/Caches/pip/wheels/8d/85/5d/cb632e565ac6b0394b211bf311b3819fb96b4640cdf3cf172f\n",
      "Successfully built llama-index\n",
      "Installing collected packages: tiktoken, llama-index\n",
      "Successfully installed llama-index-0.5.9 tiktoken-0.3.3\n",
      "\u001b[33mWARNING: You are using pip version 22.1.1; however, version 23.0.1 is available.\n",
      "You should consider upgrading via the '/Users/sameer-macair/opt/anaconda3/bin/python -m pip install --upgrade pip' command.\u001b[0m\u001b[33m\n",
      "\u001b[0mNote: you may need to restart the kernel to use updated packages.\n"
     ]
    }
   ],
   "source": [
    "pip install llama-index"
   ]
  },
  {
   "cell_type": "code",
   "execution_count": 5,
   "id": "72d7b936-3515-4688-a1e0-ef060e6f9346",
   "metadata": {},
   "outputs": [
    {
     "name": "stdout",
     "output_type": "stream",
     "text": [
      "Requirement already satisfied: google-auth-oauthlib in /Users/sameer-macair/opt/anaconda3/lib/python3.9/site-packages (0.4.6)\n",
      "Requirement already satisfied: google-auth>=1.0.0 in /Users/sameer-macair/opt/anaconda3/lib/python3.9/site-packages (from google-auth-oauthlib) (1.33.0)\n",
      "Requirement already satisfied: requests-oauthlib>=0.7.0 in /Users/sameer-macair/opt/anaconda3/lib/python3.9/site-packages (from google-auth-oauthlib) (1.3.1)\n",
      "Requirement already satisfied: six>=1.9.0 in /Users/sameer-macair/opt/anaconda3/lib/python3.9/site-packages (from google-auth>=1.0.0->google-auth-oauthlib) (1.16.0)\n",
      "Requirement already satisfied: rsa<5,>=3.1.4 in /Users/sameer-macair/opt/anaconda3/lib/python3.9/site-packages (from google-auth>=1.0.0->google-auth-oauthlib) (4.7.2)\n",
      "Requirement already satisfied: setuptools>=40.3.0 in /Users/sameer-macair/opt/anaconda3/lib/python3.9/site-packages (from google-auth>=1.0.0->google-auth-oauthlib) (61.2.0)\n",
      "Requirement already satisfied: pyasn1-modules>=0.2.1 in /Users/sameer-macair/opt/anaconda3/lib/python3.9/site-packages (from google-auth>=1.0.0->google-auth-oauthlib) (0.2.8)\n",
      "Requirement already satisfied: cachetools<5.0,>=2.0.0 in /Users/sameer-macair/opt/anaconda3/lib/python3.9/site-packages (from google-auth>=1.0.0->google-auth-oauthlib) (4.2.2)\n",
      "Requirement already satisfied: requests>=2.0.0 in /Users/sameer-macair/opt/anaconda3/lib/python3.9/site-packages (from requests-oauthlib>=0.7.0->google-auth-oauthlib) (2.27.1)\n",
      "Requirement already satisfied: oauthlib>=3.0.0 in /Users/sameer-macair/opt/anaconda3/lib/python3.9/site-packages (from requests-oauthlib>=0.7.0->google-auth-oauthlib) (3.2.0)\n",
      "Requirement already satisfied: pyasn1<0.5.0,>=0.4.6 in /Users/sameer-macair/opt/anaconda3/lib/python3.9/site-packages (from pyasn1-modules>=0.2.1->google-auth>=1.0.0->google-auth-oauthlib) (0.4.8)\n",
      "Requirement already satisfied: certifi>=2017.4.17 in /Users/sameer-macair/opt/anaconda3/lib/python3.9/site-packages (from requests>=2.0.0->requests-oauthlib>=0.7.0->google-auth-oauthlib) (2022.12.7)\n",
      "Requirement already satisfied: urllib3<1.27,>=1.21.1 in /Users/sameer-macair/opt/anaconda3/lib/python3.9/site-packages (from requests>=2.0.0->requests-oauthlib>=0.7.0->google-auth-oauthlib) (1.26.14)\n",
      "Requirement already satisfied: charset-normalizer~=2.0.0 in /Users/sameer-macair/opt/anaconda3/lib/python3.9/site-packages (from requests>=2.0.0->requests-oauthlib>=0.7.0->google-auth-oauthlib) (2.0.4)\n",
      "Requirement already satisfied: idna<4,>=2.5 in /Users/sameer-macair/opt/anaconda3/lib/python3.9/site-packages (from requests>=2.0.0->requests-oauthlib>=0.7.0->google-auth-oauthlib) (3.3)\n",
      "\u001b[33mWARNING: You are using pip version 22.1.1; however, version 23.0.1 is available.\n",
      "You should consider upgrading via the '/Users/sameer-macair/opt/anaconda3/bin/python -m pip install --upgrade pip' command.\u001b[0m\u001b[33m\n",
      "\u001b[0mNote: you may need to restart the kernel to use updated packages.\n"
     ]
    }
   ],
   "source": [
    "pip install google-auth-oauthlib"
   ]
  },
  {
   "cell_type": "code",
   "execution_count": 28,
   "id": "740884a1-1660-4e6d-86fe-e827dd16a861",
   "metadata": {},
   "outputs": [
    {
     "name": "stdout",
     "output_type": "stream",
     "text": [
      "Requirement already satisfied: google-auth in /Users/sameer-macair/opt/anaconda3/lib/python3.9/site-packages (2.17.2)\n",
      "Requirement already satisfied: six>=1.9.0 in /Users/sameer-macair/opt/anaconda3/lib/python3.9/site-packages (from google-auth) (1.16.0)\n",
      "Requirement already satisfied: pyasn1-modules>=0.2.1 in /Users/sameer-macair/opt/anaconda3/lib/python3.9/site-packages (from google-auth) (0.2.8)\n",
      "Requirement already satisfied: rsa<5,>=3.1.4 in /Users/sameer-macair/opt/anaconda3/lib/python3.9/site-packages (from google-auth) (4.7.2)\n",
      "Requirement already satisfied: cachetools<6.0,>=2.0.0 in /Users/sameer-macair/opt/anaconda3/lib/python3.9/site-packages (from google-auth) (4.2.2)\n",
      "Requirement already satisfied: pyasn1<0.5.0,>=0.4.6 in /Users/sameer-macair/opt/anaconda3/lib/python3.9/site-packages (from pyasn1-modules>=0.2.1->google-auth) (0.4.8)\n",
      "\u001b[33mWARNING: You are using pip version 22.1.1; however, version 23.0.1 is available.\n",
      "You should consider upgrading via the '/Users/sameer-macair/opt/anaconda3/bin/python -m pip install --upgrade pip' command.\u001b[0m\u001b[33m\n",
      "\u001b[0mNote: you may need to restart the kernel to use updated packages.\n"
     ]
    }
   ],
   "source": [
    "pip install google-auth"
   ]
  },
  {
   "cell_type": "code",
   "execution_count": 3,
   "id": "19c6175b-1a58-4213-a2f3-95d8fe3f785f",
   "metadata": {},
   "outputs": [],
   "source": [
    "# Import necessary packages\n",
    "import os\n",
    "import pickle\n",
    "from google.auth.transport.requests import Request\n",
    "\n",
    "from google_auth_oauthlib.flow import InstalledAppFlow\n",
    "from llama_index import GPTSimpleVectorIndex, download_loader"
   ]
  },
  {
   "cell_type": "code",
   "execution_count": 4,
   "id": "a212e2e2-481c-404e-8ed2-8c2444df09ef",
   "metadata": {},
   "outputs": [],
   "source": [
    "# Setting OPEN AI key\n",
    "# LlamaIndex package implicitly requires access to OpenAI\n",
    "os.environ['OPENAI_API_KEY'] = 'sk-X'"
   ]
  },
  {
   "cell_type": "code",
   "execution_count": 5,
   "id": "173975ab-782a-49da-ae04-a8d5f6fd3589",
   "metadata": {},
   "outputs": [],
   "source": [
    "def authorize_gdocs():\n",
    "    google_oauth2_scopes = [\n",
    "        \"https://www.googleapis.com/auth/documents.readonly\",\n",
    "        \"https://www.googleapis.com/auth/drive.readonly\"\n",
    "    ]\n",
    "    cred = None\n",
    "    if os.path.exists(\"token.pickle\"):\n",
    "        with open(\"token.pickle\", 'rb') as token:\n",
    "            cred = pickle.load(token)\n",
    "    if not cred or not cred.valid:\n",
    "        if cred and cred.expired and cred.refresh_token:\n",
    "            cred.refresh(Request())\n",
    "        else:\n",
    "            flow = InstalledAppFlow.from_client_secrets_file(\"credentials.json\", google_oauth2_scopes)\n",
    "            cred = flow.run_local_server(port=0)\n",
    "        with open(\"token.pickle\", 'wb') as token:\n",
    "            pickle.dump(cred, token)"
   ]
  },
  {
   "cell_type": "code",
   "execution_count": 6,
   "id": "d624c60e-9984-4437-b9ae-b33e840c85dc",
   "metadata": {},
   "outputs": [],
   "source": [
    "# function to authorize or download latest credentials \n",
    "authorize_gdocs()"
   ]
  },
  {
   "cell_type": "code",
   "execution_count": 14,
   "id": "1a321dcd-f781-4ee5-bd42-e9c0cf3a459d",
   "metadata": {},
   "outputs": [],
   "source": [
    "GoogleDriveReader = download_loader(\"GoogleDriveReader\")\n",
    "\n",
    "loader = GoogleDriveReader()"
   ]
  },
  {
   "cell_type": "code",
   "execution_count": 21,
   "id": "8816cd84-a39a-43fb-b81d-f2bdd4c04d3a",
   "metadata": {},
   "outputs": [
    {
     "name": "stderr",
     "output_type": "stream",
     "text": [
      "INFO:googleapiclient.discovery_cache:file_cache is only supported with oauth2client<4.0.0\n",
      "INFO:googleapiclient.discovery_cache:file_cache is only supported with oauth2client<4.0.0\n"
     ]
    }
   ],
   "source": [
    "#### Using folder id\n",
    "documents = loader.load_data(folder_id=\"0B74\")\n",
    "#documents = loader.load_data(file_ids=[\"0B74kBTq\"])\n",
    "#index = GPTSimpleVectorIndex(documents)"
   ]
  },
  {
   "cell_type": "code",
   "execution_count": 23,
   "id": "1fd431e2-249a-4574-8aee-c431ee207017",
   "metadata": {},
   "outputs": [
    {
     "name": "stderr",
     "output_type": "stream",
     "text": [
      "INFO:llama_index.token_counter.token_counter:> [build_index_from_nodes] Total LLM token usage: 0 tokens\n",
      "INFO:llama_index.token_counter.token_counter:> [build_index_from_nodes] Total embedding token usage: 125502 tokens\n"
     ]
    }
   ],
   "source": [
    "index = GPTSimpleVectorIndex.from_documents(documents)"
   ]
  },
  {
   "cell_type": "code",
   "execution_count": 24,
   "id": "ea0302ac-fefe-4d09-be4c-fba2b4b91e90",
   "metadata": {},
   "outputs": [
    {
     "name": "stderr",
     "output_type": "stream",
     "text": [
      "INFO:llama_index.token_counter.token_counter:> [query] Total LLM token usage: 3839 tokens\n",
      "INFO:llama_index.token_counter.token_counter:> [query] Total embedding token usage: 8 tokens\n"
     ]
    },
    {
     "data": {
      "text/plain": [
       "Response(response='\\nIt is not possible to answer this question without prior knowledge.', source_nodes=[NodeWithScore(node=Node(text='\\x08\"fy[D\\x1d\\t9k\\x16\\x08h7\\x19C.z̥[\\x1e\\x06N|ıĪ\\x143\\x16\\x17\\x08]m/<4S\\x1aqe8\\x14l\\x03->i\\x14a1wE\\x11?OU<湯K|\\x14LW[3-+^\\x0ew\\'\\x03mmKR>gHNK\\x0f?C͖O[<qȐn\\x13Wrox\\x19gY_/є\\x12^җӍ\\x19Y0>\\x1a&Ej%3R\\nenJ\\x1a(I\\x06\\t˻\\x1b\\x1cBi,Hk@\\x02\\x1e9>\\x15pLmM\\x196\\x0e+^<NVTb5S\\x1e\\x81>\\x11:^A\\x03\\x11g5\\x14M67\\x186\\x170x/3]xЬI#ct|\\x89sӟsRZY%c\\x19y[m>{rL290>i4m0t纤\\x1b|pRh6\\x0cA\\x06c}R\"_\\x1b\"\\x10a*vnR#\\x0ck3\\n#)`FRk\\x13E31sN\\x1a\\x0f\\x0fecf\\x7fZՖF\\x1an(ޝVg\\x00j%.`t\\x1a\\x08{IM2҂6\\x1a8@\\x03nMqod\\x1a\\x0f3IYne@G._\\x14.͌?eƥthQ&M\\x01\\x16&\\x1f\\x12\\x1aWZhCa\\x16;$\\x19V%=n\\x7f\\x1cf\\x06)V\\\\Ӓ\\x1bTj8ynm\\x13땎Q+ycÏ7\\x11Y\\x16\\\\x\\x01dy<N:\\x07\\'_OKF\\x074(j\\x10\\x0c\\x1aK[kS^\\x17U-\\x1a\\t͗.G0̝\\x8a<PQ2K4m\\x10I*uJܙt&3IqY\\x16ws\\x18^\\x0c\\x17hk\\x04mf|+ugu`<]Wn<uTv\\x18DNZ\\x16/\\x18\\x1f\\x06k5`\\x13A:rw8m\\x1a\\x1eL3v\\x03\"L VhTu\\'\\x0b\\x1e9\\u05fda\\x16@\\x1cD\\x06\\x189>פ#Z\"ݒǕ)l*ٙTzz{̸UCC齿8\\x184\\x07;\\x15\\x17\\x0frhY%\\x13b\\'*n\\\\\\x0bz\\x13f\\'{&Y\\x18%\\n],\\x1d%->.\\x0chD\\x07\\x1dpp\\x0fk\\x1d֞͢^<I\\x14\\x118\\'QƧ~\\x06W%t\\x004qF\\x19r\"] M\\x14\\x00}\\x15\\x06\\x00G̙\\x16\\t\\x14~s| ڍxp,R3mQ ڟF]\\uec36Xt9Mg*Z>\\x0cd\\x1cdV\\x12\\x1ab\\x17\\x0fح5ݓQ)V4\\x02j\\x134\\x7f9$o:9d6E\\x06\\x19.ٌ`Sh\\x15%۽d}րɾo\"n\\x7fَ~\\x7fk|T\\x7fj!T\\x01N!K]Ca0\\x08MwR\\x01NmyqVdǽ~]K{X2oLO\\x0bK&tڤI\\x0c\\x7f-U[>Vq!\\U0008d1f5\\x1fyi(.s\\x1eHtɏȶ\\x02;$5[nV\\U000366a8\\U000c6979Y}T?\\x06˂\\x18\\x1ddwÒ\\x13g@\\x00\\x18ni-b-.\\x1d\\x18\\x0f\\nu}ٷ8\\x0f=\"4#<\\x0csELu46l\\x18\"F\\x1aQ/O+6\\x07\\x1fq\\nu~c|z0h\\x12@䆏\\x06ЩfS-T+K\\x07g:n0<B7w_\\x03pFd\\x18&\\x10#]lA\\x0e\\x19\\\\2~M*\\x1fWDę4\\x19-}\\x1d\\t9\"bG\\x082ă>ejFYrM^ӛl1G\\x1fӈđR˦sr?Kh)k]_\\x00F8,|oI\\x1ex\\x03j6\\x1ch\\\\āG\\n]\\x0efX\\x19oWEfT\\x0c\\x12Q\\x1b&GB&ϖ\\x19Ͷ6q\\x1d_2-cNތbCV/f&^cA(t0|\\x14Ґ\\n,ia6[],8|nC\\x1dK\\t0Gƛp?\\x16n=\\x00WZql\"apC윢aTw\\x1b+wSc#a>\\x00c\\x1e\\\\лMiu|yu\\x187^\\x0b\\x0f\\\\K\\x05m6V\\x13[Ð\\x1f\\x12J\\x1a\\x1d%<3\\x04]\\x037\\x0bgp6k\\x07_@z8\\nGSCZ\\x07H5\\x1d৶\\x1bWK\"\\x01|N\\x1elnJ#\\x15\\x1ei7P0\\x19Y\\x1bc2p$Y\\x17^p6[oC_i}5,f$Pw\\x1eΦsBqf╞<҉\\x15\\x03a?-\\x0b\\x7ftIcwg={]v;SA\\x05CıZO\\x10-`<6o|nv3\\x10c\\tLY\\\\\\x14\\x0c;IJVw\\x7f\\x1f^=K\\x0b&S\\x024^JnV\\x1b^\\x1e[~p6G\\x07{_t>X~ʮ5bx6.xdUhzY+*UmO}r[˔U\\ueab6?qho02\\x08j}\\x0fj\\n7\\x15esf\\x17,f;=p\\x1dw.k\\x07ZT(&)0hީ9҉\\x0016\\x0bDt7\\x0c\\x12}O(\\x1f!Kq;S,#K\\x04\\x17\\x1a8pzzEXOSN[kh|n\\x1c?i8^ՋoM첩\\x1f~܆\\x16\\x17du\\x00Vø\\x19]r~zV\\\\gE&{\\tͧ7XG9viRA&-|j\\x1bi\\tŸλ\\x02a5N\\x1cgk_%f\\nI?l/7,^n.\\x02\\x12iQ\\x17_jWmwx\\x0e\\nj\\nZʕ\"mC}ڇЂ65.If朰fY{g-/8\\x17hSGpxՕWQ0pć,)\\x05a\\x12Mvة\\x05\\x0bm\\x16;4}63ɮ,/&\\x0f=&5RdhϙkZ#\\x10\\x0e*&%y\\x02-q\\x0f|{~g5%w~G>dϭ)7LnR\\x18f`[\\x18PFvvq\\x19/%B\\x0fs\\x1a\\x18\\x045n~~ϏzQ\\x1d\\x16+>,jS3ńM1\\x0fSkOY\\\\,\\x03ԁ\\x05kK<+]z\\x06\\x1b7\\u03797T\\u07bc[wg \\\\&YEgW\\x15w;l|۩˥0g\\x1bZk2·aK+Ζ\\t~\\x18/{Uƛi\\x0f=\\\\|!܆Ɇgw`|Qvʏwv\\x0bi\\x0fv֞\\x12\\x7fߔ1nfm(F[{-\\x058\\x0fpV<gouB=RmV[l~0-\\x19Řs2>$U/3h3S\\\\i\\x1dWC\\x11A߇?]wuV\\x7f_ıG+Z\\x1f\\x1f-9\\'dskK9\\x8dlV-oGj+wW*C\\'\\x0b0|/\\x16\\x06LNܔ\\x19#\\x1fR\\x1d@?\\x7f^ĤKZ$hsު\\x0c[2g~\\x00Tm&;np<M3ueW\\x0cy\\x7fYg?\\x0f[\\x1e|\\n6\\x0eSK)}朰fYd<or)kʐ8%义e((0H\\x06LI\\'\\x05\\n4i\\x1fȭ$D됇ʋG;Vڱ0M\\x07\\'Bj\\x7frZ\\x19g~PM\\x7f\\x013\\x1f\\x15ylN\\x0cQLo\\x03;#\\x01{.VY.*dbz\\x08~\\x0b\\x0fE\\'d`(1F\\n\"<U\\x1d\\U000b25fcl\\x17n|\\x1ao}\\x1eGڲd\\x10mzmf˯垯ޓb\\x1cИ^&\\x1a\\x1byeW\\x1e~\\x19ncZ_dP\\x0f#e\\x1flmʣH\\x013}{9:\\x00g֣F\\x17d\\x10G\\x1eq8/\\x1b8~EUi#4^7$\\x03iaCy|E6q78MG?s\\x1bv+ɥLPd$!4Xk{Ͻrwŗb(ÈbVwYUշĳU]{F1\\x1bu<s^?\\x00\\x14K(^\\x03&e.j̔t7\\x1f{|\\x07u}矿33:w5\\x0f4L7yͬdwWN?~\\x7f\\x13;\\x01J\\u05f7D|vE|v*0o\\x1eҎ9\\x18ڛz;7\\x7f32q0:\\x14\\x03P\\x1euZֶ\\x19cž;J1c\\x07)_=(\\x06?H+SCmSH sp&\\x0f:]vE\\n}sG\":٤3J\\x16Z)\\x0eڂ5x\\x14\\x06%=8+=u\\x08\\x1cD1X\\x19\\x1f=8w\\x0fo{\\x18TC6<!#\\x7fv5@`\\x17s?t.\\x15ZK\\x16&/sΈiyOOF+\\x06\\x16\\x17wq#_+b+\\x0f~e\\\\Oo\\x1c\\x1f|\\x07p<[n%Md6p\\x03;ԓO$~/St;n!e-,_Kاp\\x0bN9\\ngq~sG}yn\"\\x05ru敘\\x7frw\\u0379\\x08^\\x7f\\x181!,ykkC\\x0f9TE:v/\\x7fEp/w~?ϕpݧ\\x14Uw\"6[o\\\\{͵g\\x03>\\x1d\\x19<i\\u05fc\\x1erS\\\\J\\x02u\\x1bb-6xS\\nS\\x03_wG\\x0b\\\\}k\\x0fY\\x11\\x1aIO*}6ʫ.\"rn}o\\x1cbV\\x0e!R\\x08ߢni]v[9kHЫxUmrkJ`2\\n\\x1a+_틷}Ѷc=D\\x1c}\\x0c\\x1dٚ\\x14Qgs\\x1a0E\\x11\\x1aƚ~\\U000a37d0[Ept\\x01\\x1awqg}(sNiOK8TPM\\x05C1&\\x1bmǽ㸻\\x10\\x06S\\x02mO?dBӒO\\x17.>}g\"\\x07C^WQ\\x07|O<*/οNtYw\\'e\\x19SJkd\\'1c͠<\\x11\\x7f}[NC)=ZQ\\'U贬=\\x05\\x10\\x05nR)\\x1d=|\\x16fZf3X&nBv\\x0b\\\\{?[\\x0e@}!D2<*\\x07;\\x0c77N9m-Cȼ\\'wO.hwjkda֦?_=]h[n-tC9g<dU01\\x07\\x12\\x1fl6l\\x17nLa\\x19QVf\\nD *>SH\\nZ\\x05\\x7f_\\x0fwSO\\x7f\\x7f<]\\'kZrɧp\\tǾX\\x17\\x17^p/\\x10`\\x00\\x00su\\x00rЄCZ]yaޟzq%]\\x19\\x14k\\x7f=\\x14P<\\x15\\x17ݡa}La\\x14L$\\nS&M`\\x0b\\x06M-nk?\\x0bO^yG;s<S=9\\n(q8)\\'\\x7f\\x00,\\x1alo4\\x06\\x08B560^~ba<1!\\x113\\x04YB(QjL<)\\x14žTPV씱.^n\\x1c6\\x07\\x1av\\x10_f~\\x1852פ1E{\\'@+2gWl{l[YŤ&\\x140\\x12+pCs\\x0c{\\x04I\\'h=(\\\\\\x13`[ܹ<d\\x19/\\x10t&etˏ~2ك\\x039\\x18a\\'\\U000fdf0b4сS\\x1cey5`뻂:6=c5ckp\\nJrRj߀`<Փ45ܰ2^V{\\x1a\\x02f\\x15\\'\\x0f,\\x7f\"\\x1a\\x13ڍ;yM\\x16˔\\x15uaZu1XL\\x11Õ]jPt[ S\\x11W\\x04iY\\x0be\\x0eLO\\x13\\x0c\\x1d\\x1cȱ^\\x08;\\x1a6O\\x0c\\x0b4=@\\x0b\\x03V\\x07jd`\\t>-T\\x06;q&{xhEM(T\\x1eч,s?\\x07N|)+c*n;csO*U2@\\x1d\\x879\\x07\\x142瀙B7S=-s^VS=-k9`M++A1,_VS=-k9`eZrr&{Λ4-Ӳ.]ffyZeZ\\x11\\\\]nϴL\\\\}&{Ze%eWO*s7\\x044\\x04U*s\\x0e)>e%e\\x013oZY\\t\\x1fXfq\\x016oTsL9-+)s\\x0e)~JdO\\x1c9\\x07\\x14Ӳ2ĴL˴L˼+S=<-̹\\x1b9-2-\\x08+AӲʜodiiy\\x15%d&jbsaZeZ\\x11VzxZVSYn2-2-ʪQyeZeZeZeZeZeZeZ2e5^>-2-\\x08+<A9\\nRvz\\x03e)\\x0bC\\nendstream\\nendobj\\n76 0 obj\\n<<\\n/Type /XObject /Subtype /Image /Name /autowelcome5\\n/Filter /FlateDecode /Width 231 /Height 106 /BitsPerComponent 8 /ColorSpace /DeviceRGB \\n/Length 17915\\n>>\\nstream\\nxwV\\x13WL45ƖD\\x16b\\x05{ł \\x08*HG\\x10T\\x14\\x01\\x15\\x14\\x1b5\\x1b *`\\tQAT\\x10\\x16\\x10\\x10wQcA=w~<k5\\\\\\x14s\\x11w\\x1f:9s>̞={\\x14j(O>y\\x16/^\\x1cGYٙZYL:uʔ)s/\\x00_\\x7fW_qU+R?Ǐ\\x7fD\\x16}\\n\\x03}EE\\x07zO\\x7fYY\\x00\\t:\\x02u]\\\\C#_\\x1aR\\x15\\x0e_5\\\\Se\\x7f8?<?%-b\\x7fE]\\x7fVJB5U>Z+\\x7f\\x0bD\\t;|\\x07?d\\x12=Z\\x10\\x121$\\t\\x19+\\x038\\x03%\\x01wK3>T\\x1bt,\\x0cp5E\\x14E&@\\x17eפIƍ\\x1bB\\x7f\\x17_|Kp\\x1aq:T\\n)Y.w/yTYF\\x12%t}.;TO[|5F(c\\x0f\\x10b\\x17,XK/=쳯ܹsA\\x1boo\\x7fG\\x0eO\\x13\\x1bj-\\x1brՁg\\x0f:dٌW\\x15%LW^檕\\x13\\x14uC2UO<Č\\x1934*2\\x15\\x19?K7(&\\x1d*̾eyx+\\x196Te02 xTj.O\\x07E\\x0cE5\\x11|cƌ]+$\\x13\\x01\\x7f/\\t /Ur~c/:^K\\x1d\\x17Wrsy\\x13tkAz{7gΜ9{l~_x\\x05~j2b_TYX4ӧ\\x1a\\x04YfM6\\n-jdNQ%yzA\\'Y(GI\\x16$)\\tF\\x14JT5\\x06=}3[QNN5n$\\x1fF(Iu?c\\x19ṡZw\\uffffo߾\\x1d;v<s{չs~=C d\\x84\\t\\u07bd;w9C?K.E\\t\\x7farIK\\\\\\x16(T#\\'!?\\x0c\\x1e<$~\\x1dIλ\\x0c\\x192{{\\x0e\\x1dz}\\n\\x1b6lD\\x07<\\x18r=\\x1cetGD5$OFy*O?\\\\\\x7f~R)I^R\\x14tm\\x7f^DġV]TĹAFv\\nřgy駟uY`( )\\x08bo&\\x02\\x00f\\x07`hz\\x1a\\x1a\\\\tE\\x00./\\x18ݛ_\\x00#.\\x06\\x0c\\x18pQ+RXꫯ\\x06\\x03\\x07\\x0e/h$Nn|\\x12^wu^{UQH_S0|c\\x142C\\x05w\\x12(%\\x18\\x7f\\x01\\'(\\x11;kzǸ3rHJ\\x00+Lr\\x1f\\x1b7G\\x1f\\x1d;v,\\x17', doc_id='16c86b82-f119-44cf-a56a-fe916f61660d', embedding=None, doc_hash='4bd8f348170578f2bdd121af57e83ca68974defe0a5753f8dfbb7ce0e781fbb4', extra_info={'file id': '0B74kBTqJwfAxd21TTUY5MUxKQjA', 'author': 'Sameer Mohan', 'file name': 'ViewPolicy-TataAig-2014.pdf', 'created at': '2013-04-15T18:13:36.151Z', 'modified at': '2013-03-04T16:31:30.000Z'}, node_info={'start': 71811, 'end': 75663}, relationships={<DocumentRelationship.SOURCE: '1'>: '339c75f8-8272-4516-9888-56bb01b00b69', <DocumentRelationship.PREVIOUS: '2'>: '6bef0cdb-0a9a-4d24-907c-1781a9f1f37d', <DocumentRelationship.NEXT: '3'>: 'b143ca89-aea5-4af8-b7a8-8d5e91be8a9d'}), score=0.7029820243703273)], extra_info=None)"
      ]
     },
     "execution_count": 24,
     "metadata": {},
     "output_type": "execute_result"
    }
   ],
   "source": [
    "index.query('what are autosecure advantages?')"
   ]
  },
  {
   "cell_type": "code",
   "execution_count": 12,
   "id": "79fd29e1-62fc-4cb1-9228-40ca7d1587c7",
   "metadata": {},
   "outputs": [
    {
     "name": "stderr",
     "output_type": "stream",
     "text": [
      "INFO:googleapiclient.discovery_cache:file_cache is only supported with oauth2client<4.0.0\n"
     ]
    },
    {
     "ename": "HttpError",
     "evalue": "<HttpError 400 when requesting https://docs.googleapis.com/v1/documents/0B74kBTqJwfAxd21TTUY5MUxKQjA?alt=json returned \"Request contains an invalid argument.\". Details: \"Request contains an invalid argument.\">",
     "output_type": "error",
     "traceback": [
      "\u001b[0;31m---------------------------------------------------------------------------\u001b[0m",
      "\u001b[0;31mHttpError\u001b[0m                                 Traceback (most recent call last)",
      "Input \u001b[0;32mIn [12]\u001b[0m, in \u001b[0;36m<cell line: 9>\u001b[0;34m()\u001b[0m\n\u001b[1;32m      6\u001b[0m loader \u001b[38;5;241m=\u001b[39m GoogleDocsReader()\n\u001b[1;32m      8\u001b[0m \u001b[38;5;66;03m# load gdocs and index them \u001b[39;00m\n\u001b[0;32m----> 9\u001b[0m documents \u001b[38;5;241m=\u001b[39m \u001b[43mloader\u001b[49m\u001b[38;5;241;43m.\u001b[39;49m\u001b[43mload_data\u001b[49m\u001b[43m(\u001b[49m\u001b[43mdocument_ids\u001b[49m\u001b[38;5;241;43m=\u001b[39;49m\u001b[43mgdoc_ids\u001b[49m\u001b[43m)\u001b[49m\n\u001b[1;32m     10\u001b[0m index \u001b[38;5;241m=\u001b[39m GPTSimpleVectorIndex(documents)\n",
      "File \u001b[0;32m~/opt/anaconda3/lib/python3.9/site-packages/llama_index/readers/llamahub_modules/google_docs/base.py:45\u001b[0m, in \u001b[0;36mGoogleDocsReader.load_data\u001b[0;34m(self, document_ids)\u001b[0m\n\u001b[1;32m     43\u001b[0m results \u001b[38;5;241m=\u001b[39m []\n\u001b[1;32m     44\u001b[0m \u001b[38;5;28;01mfor\u001b[39;00m document_id \u001b[38;5;129;01min\u001b[39;00m document_ids:\n\u001b[0;32m---> 45\u001b[0m     doc \u001b[38;5;241m=\u001b[39m \u001b[38;5;28;43mself\u001b[39;49m\u001b[38;5;241;43m.\u001b[39;49m\u001b[43m_load_doc\u001b[49m\u001b[43m(\u001b[49m\u001b[43mdocument_id\u001b[49m\u001b[43m)\u001b[49m\n\u001b[1;32m     46\u001b[0m     results\u001b[38;5;241m.\u001b[39mappend(Document(doc, extra_info\u001b[38;5;241m=\u001b[39m{\u001b[38;5;124m\"\u001b[39m\u001b[38;5;124mdocument_id\u001b[39m\u001b[38;5;124m\"\u001b[39m: document_id}))\n\u001b[1;32m     47\u001b[0m \u001b[38;5;28;01mreturn\u001b[39;00m results\n",
      "File \u001b[0;32m~/opt/anaconda3/lib/python3.9/site-packages/llama_index/readers/llamahub_modules/google_docs/base.py:62\u001b[0m, in \u001b[0;36mGoogleDocsReader._load_doc\u001b[0;34m(self, document_id)\u001b[0m\n\u001b[1;32m     60\u001b[0m credentials \u001b[38;5;241m=\u001b[39m \u001b[38;5;28mself\u001b[39m\u001b[38;5;241m.\u001b[39m_get_credentials()\n\u001b[1;32m     61\u001b[0m docs_service \u001b[38;5;241m=\u001b[39m discovery\u001b[38;5;241m.\u001b[39mbuild(\u001b[38;5;124m\"\u001b[39m\u001b[38;5;124mdocs\u001b[39m\u001b[38;5;124m\"\u001b[39m, \u001b[38;5;124m\"\u001b[39m\u001b[38;5;124mv1\u001b[39m\u001b[38;5;124m\"\u001b[39m, credentials\u001b[38;5;241m=\u001b[39mcredentials)\n\u001b[0;32m---> 62\u001b[0m doc \u001b[38;5;241m=\u001b[39m \u001b[43mdocs_service\u001b[49m\u001b[38;5;241;43m.\u001b[39;49m\u001b[43mdocuments\u001b[49m\u001b[43m(\u001b[49m\u001b[43m)\u001b[49m\u001b[38;5;241;43m.\u001b[39;49m\u001b[43mget\u001b[49m\u001b[43m(\u001b[49m\u001b[43mdocumentId\u001b[49m\u001b[38;5;241;43m=\u001b[39;49m\u001b[43mdocument_id\u001b[49m\u001b[43m)\u001b[49m\u001b[38;5;241;43m.\u001b[39;49m\u001b[43mexecute\u001b[49m\u001b[43m(\u001b[49m\u001b[43m)\u001b[49m\n\u001b[1;32m     63\u001b[0m doc_content \u001b[38;5;241m=\u001b[39m doc\u001b[38;5;241m.\u001b[39mget(\u001b[38;5;124m\"\u001b[39m\u001b[38;5;124mbody\u001b[39m\u001b[38;5;124m\"\u001b[39m)\u001b[38;5;241m.\u001b[39mget(\u001b[38;5;124m\"\u001b[39m\u001b[38;5;124mcontent\u001b[39m\u001b[38;5;124m\"\u001b[39m)\n\u001b[1;32m     64\u001b[0m \u001b[38;5;28;01mreturn\u001b[39;00m \u001b[38;5;28mself\u001b[39m\u001b[38;5;241m.\u001b[39m_read_structural_elements(doc_content)\n",
      "File \u001b[0;32m~/opt/anaconda3/lib/python3.9/site-packages/googleapiclient/_helpers.py:130\u001b[0m, in \u001b[0;36mpositional.<locals>.positional_decorator.<locals>.positional_wrapper\u001b[0;34m(*args, **kwargs)\u001b[0m\n\u001b[1;32m    128\u001b[0m     \u001b[38;5;28;01melif\u001b[39;00m positional_parameters_enforcement \u001b[38;5;241m==\u001b[39m POSITIONAL_WARNING:\n\u001b[1;32m    129\u001b[0m         logger\u001b[38;5;241m.\u001b[39mwarning(message)\n\u001b[0;32m--> 130\u001b[0m \u001b[38;5;28;01mreturn\u001b[39;00m \u001b[43mwrapped\u001b[49m\u001b[43m(\u001b[49m\u001b[38;5;241;43m*\u001b[39;49m\u001b[43margs\u001b[49m\u001b[43m,\u001b[49m\u001b[43m \u001b[49m\u001b[38;5;241;43m*\u001b[39;49m\u001b[38;5;241;43m*\u001b[39;49m\u001b[43mkwargs\u001b[49m\u001b[43m)\u001b[49m\n",
      "File \u001b[0;32m~/opt/anaconda3/lib/python3.9/site-packages/googleapiclient/http.py:938\u001b[0m, in \u001b[0;36mHttpRequest.execute\u001b[0;34m(self, http, num_retries)\u001b[0m\n\u001b[1;32m    936\u001b[0m     callback(resp)\n\u001b[1;32m    937\u001b[0m \u001b[38;5;28;01mif\u001b[39;00m resp\u001b[38;5;241m.\u001b[39mstatus \u001b[38;5;241m>\u001b[39m\u001b[38;5;241m=\u001b[39m \u001b[38;5;241m300\u001b[39m:\n\u001b[0;32m--> 938\u001b[0m     \u001b[38;5;28;01mraise\u001b[39;00m HttpError(resp, content, uri\u001b[38;5;241m=\u001b[39m\u001b[38;5;28mself\u001b[39m\u001b[38;5;241m.\u001b[39muri)\n\u001b[1;32m    939\u001b[0m \u001b[38;5;28;01mreturn\u001b[39;00m \u001b[38;5;28mself\u001b[39m\u001b[38;5;241m.\u001b[39mpostproc(resp, content)\n",
      "\u001b[0;31mHttpError\u001b[0m: <HttpError 400 when requesting https://docs.googleapis.com/v1/documents/0B74kBTqJwfAxd21TTUY5MUxKQjA?alt=json returned \"Request contains an invalid argument.\". Details: \"Request contains an invalid argument.\">"
     ]
    }
   ],
   "source": [
    "# initialize LlamaIndex google doc reader \n",
    "#GoogleDocsReader = download_loader('GoogleDocsReader')\n",
    "\n",
    "# list of google docs we want to index \n",
    "#gdoc_ids = ['0B74kBTqJwfA']\n",
    "#loader = GoogleDocsReader()\n",
    "\n",
    "# load gdocs and index them \n",
    "#documents = loader.load_data(document_ids=gdoc_ids)\n",
    "#index = GPTSimpleVectorIndex(documents)"
   ]
  },
  {
   "cell_type": "code",
   "execution_count": 25,
   "id": "c0a9cc7c-be4b-4b26-ac69-fac81f785010",
   "metadata": {},
   "outputs": [],
   "source": [
    "# Save your index to a index.json file\n",
    "index.save_to_disk('index.json')"
   ]
  },
  {
   "cell_type": "code",
   "execution_count": 26,
   "id": "ded9e83b-94c5-48b7-bb33-a06c02398784",
   "metadata": {},
   "outputs": [],
   "source": [
    "# Load the index from your saved index.json file\n",
    "index = GPTSimpleVectorIndex.load_from_disk('index.json')"
   ]
  },
  {
   "cell_type": "code",
   "execution_count": 27,
   "id": "7aa6c92f-9588-4ce2-8822-cf697c996d87",
   "metadata": {},
   "outputs": [
    {
     "name": "stdin",
     "output_type": "stream",
     "text": [
      "Type prompt... who is author for tata aig file?\n"
     ]
    },
    {
     "name": "stderr",
     "output_type": "stream",
     "text": [
      "INFO:llama_index.token_counter.token_counter:> [query] Total LLM token usage: 3800 tokens\n",
      "INFO:llama_index.token_counter.token_counter:> [query] Total embedding token usage: 10 tokens\n"
     ]
    },
    {
     "name": "stdout",
     "output_type": "stream",
     "text": [
      "\n",
      "Sameer Mohan\n"
     ]
    },
    {
     "ename": "KeyboardInterrupt",
     "evalue": "Interrupted by user",
     "output_type": "error",
     "traceback": [
      "\u001b[0;31m---------------------------------------------------------------------------\u001b[0m",
      "\u001b[0;31mKeyboardInterrupt\u001b[0m                         Traceback (most recent call last)",
      "Input \u001b[0;32mIn [27]\u001b[0m, in \u001b[0;36m<cell line: 3>\u001b[0;34m()\u001b[0m\n\u001b[1;32m      1\u001b[0m \u001b[38;5;66;03m# Querying the index\u001b[39;00m\n\u001b[1;32m      2\u001b[0m \u001b[38;5;28;01mwhile\u001b[39;00m \u001b[38;5;28;01mTrue\u001b[39;00m:\n\u001b[0;32m----> 3\u001b[0m     prompt \u001b[38;5;241m=\u001b[39m \u001b[38;5;28;43minput\u001b[39;49m\u001b[43m(\u001b[49m\u001b[38;5;124;43m\"\u001b[39;49m\u001b[38;5;124;43mType prompt...\u001b[39;49m\u001b[38;5;124;43m\"\u001b[39;49m\u001b[43m)\u001b[49m\n\u001b[1;32m      4\u001b[0m     response \u001b[38;5;241m=\u001b[39m index\u001b[38;5;241m.\u001b[39mquery(prompt)\n\u001b[1;32m      5\u001b[0m     \u001b[38;5;28mprint\u001b[39m(response)\n",
      "File \u001b[0;32m~/opt/anaconda3/lib/python3.9/site-packages/ipykernel/kernelbase.py:1075\u001b[0m, in \u001b[0;36mKernel.raw_input\u001b[0;34m(self, prompt)\u001b[0m\n\u001b[1;32m   1071\u001b[0m \u001b[38;5;28;01mif\u001b[39;00m \u001b[38;5;129;01mnot\u001b[39;00m \u001b[38;5;28mself\u001b[39m\u001b[38;5;241m.\u001b[39m_allow_stdin:\n\u001b[1;32m   1072\u001b[0m     \u001b[38;5;28;01mraise\u001b[39;00m StdinNotImplementedError(\n\u001b[1;32m   1073\u001b[0m         \u001b[38;5;124m\"\u001b[39m\u001b[38;5;124mraw_input was called, but this frontend does not support input requests.\u001b[39m\u001b[38;5;124m\"\u001b[39m\n\u001b[1;32m   1074\u001b[0m     )\n\u001b[0;32m-> 1075\u001b[0m \u001b[38;5;28;01mreturn\u001b[39;00m \u001b[38;5;28;43mself\u001b[39;49m\u001b[38;5;241;43m.\u001b[39;49m\u001b[43m_input_request\u001b[49m\u001b[43m(\u001b[49m\n\u001b[1;32m   1076\u001b[0m \u001b[43m    \u001b[49m\u001b[38;5;28;43mstr\u001b[39;49m\u001b[43m(\u001b[49m\u001b[43mprompt\u001b[49m\u001b[43m)\u001b[49m\u001b[43m,\u001b[49m\n\u001b[1;32m   1077\u001b[0m \u001b[43m    \u001b[49m\u001b[38;5;28;43mself\u001b[39;49m\u001b[38;5;241;43m.\u001b[39;49m\u001b[43m_parent_ident\u001b[49m\u001b[43m[\u001b[49m\u001b[38;5;124;43m\"\u001b[39;49m\u001b[38;5;124;43mshell\u001b[39;49m\u001b[38;5;124;43m\"\u001b[39;49m\u001b[43m]\u001b[49m\u001b[43m,\u001b[49m\n\u001b[1;32m   1078\u001b[0m \u001b[43m    \u001b[49m\u001b[38;5;28;43mself\u001b[39;49m\u001b[38;5;241;43m.\u001b[39;49m\u001b[43mget_parent\u001b[49m\u001b[43m(\u001b[49m\u001b[38;5;124;43m\"\u001b[39;49m\u001b[38;5;124;43mshell\u001b[39;49m\u001b[38;5;124;43m\"\u001b[39;49m\u001b[43m)\u001b[49m\u001b[43m,\u001b[49m\n\u001b[1;32m   1079\u001b[0m \u001b[43m    \u001b[49m\u001b[43mpassword\u001b[49m\u001b[38;5;241;43m=\u001b[39;49m\u001b[38;5;28;43;01mFalse\u001b[39;49;00m\u001b[43m,\u001b[49m\n\u001b[1;32m   1080\u001b[0m \u001b[43m\u001b[49m\u001b[43m)\u001b[49m\n",
      "File \u001b[0;32m~/opt/anaconda3/lib/python3.9/site-packages/ipykernel/kernelbase.py:1120\u001b[0m, in \u001b[0;36mKernel._input_request\u001b[0;34m(self, prompt, ident, parent, password)\u001b[0m\n\u001b[1;32m   1117\u001b[0m             \u001b[38;5;28;01mbreak\u001b[39;00m\n\u001b[1;32m   1118\u001b[0m \u001b[38;5;28;01mexcept\u001b[39;00m \u001b[38;5;167;01mKeyboardInterrupt\u001b[39;00m:\n\u001b[1;32m   1119\u001b[0m     \u001b[38;5;66;03m# re-raise KeyboardInterrupt, to truncate traceback\u001b[39;00m\n\u001b[0;32m-> 1120\u001b[0m     \u001b[38;5;28;01mraise\u001b[39;00m \u001b[38;5;167;01mKeyboardInterrupt\u001b[39;00m(\u001b[38;5;124m\"\u001b[39m\u001b[38;5;124mInterrupted by user\u001b[39m\u001b[38;5;124m\"\u001b[39m) \u001b[38;5;28;01mfrom\u001b[39;00m \u001b[38;5;28mNone\u001b[39m\n\u001b[1;32m   1121\u001b[0m \u001b[38;5;28;01mexcept\u001b[39;00m \u001b[38;5;167;01mException\u001b[39;00m:\n\u001b[1;32m   1122\u001b[0m     \u001b[38;5;28mself\u001b[39m\u001b[38;5;241m.\u001b[39mlog\u001b[38;5;241m.\u001b[39mwarning(\u001b[38;5;124m\"\u001b[39m\u001b[38;5;124mInvalid Message:\u001b[39m\u001b[38;5;124m\"\u001b[39m, exc_info\u001b[38;5;241m=\u001b[39m\u001b[38;5;28;01mTrue\u001b[39;00m)\n",
      "\u001b[0;31mKeyboardInterrupt\u001b[0m: Interrupted by user"
     ]
    }
   ],
   "source": [
    "# Querying the index\n",
    "while True:\n",
    "    prompt = input(\"Type prompt...\")\n",
    "    response = index.query(prompt)\n",
    "    print(response)"
   ]
  }
 ],
 "metadata": {
  "kernelspec": {
   "display_name": "Python 3 (ipykernel)",
   "language": "python",
   "name": "python3"
  },
  "language_info": {
   "codemirror_mode": {
    "name": "ipython",
    "version": 3
   },
   "file_extension": ".py",
   "mimetype": "text/x-python",
   "name": "python",
   "nbconvert_exporter": "python",
   "pygments_lexer": "ipython3",
   "version": "3.9.12"
  }
 },
 "nbformat": 4,
 "nbformat_minor": 5
}
